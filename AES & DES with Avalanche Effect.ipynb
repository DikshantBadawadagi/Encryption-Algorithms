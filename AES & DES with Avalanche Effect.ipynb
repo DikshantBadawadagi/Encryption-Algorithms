{
  "nbformat": 4,
  "nbformat_minor": 0,
  "metadata": {
    "colab": {
      "provenance": [],
      "authorship_tag": "ABX9TyOZR4Xqb5vZXNO/VbPZ9r25",
      "include_colab_link": true
    },
    "kernelspec": {
      "name": "python3",
      "display_name": "Python 3"
    },
    "language_info": {
      "name": "python"
    }
  },
  "cells": [
    {
      "cell_type": "markdown",
      "metadata": {
        "id": "view-in-github",
        "colab_type": "text"
      },
      "source": [
        "<a href=\"https://colab.research.google.com/github/DikshantBadawadagi/Encryption-Algorithms/blob/main/AES%20%26%20DES%20with%20Avalanche%20Effect.ipynb\" target=\"_parent\"><img src=\"https://colab.research.google.com/assets/colab-badge.svg\" alt=\"Open In Colab\"/></a>"
      ]
    },
    {
      "cell_type": "code",
      "execution_count": 1,
      "metadata": {
        "colab": {
          "base_uri": "https://localhost:8080/"
        },
        "id": "6XbRLtsCA6LK",
        "outputId": "c298e8b7-99b7-475d-e2f4-790d40005e3c"
      },
      "outputs": [
        {
          "output_type": "stream",
          "name": "stdout",
          "text": [
            "SOURCE CODE: [Refer to code above]\n",
            "\n",
            "OBSERVATIONS AND CONCLUSION:\n",
            "\n",
            "Parameter                     AES-128                                                          DES                                                              \n",
            "Plaintext:                    123456                                                           123456                                                           \n",
            "Ciphertext:                   51f37d62fad5388dfc0c1fa52faf6067                                 80ef783f4886cd31                                                 \n",
            "Encryption time (s):          0.017283                                                         0.000387                                                         \n",
            "Decryption time (s):          0.000116                                                         0.000173                                                         \n",
            "\n",
            "Avalanche Effect (1 Bit Change in Plaintext):\n",
            "Parameter                     AES                                                              DES                                                              \n",
            "Original Plaintext:           123456                                                           123456                                                           \n",
            "Changed Plaintext:            123454                                                           123454                                                           \n",
            "New CT:                       adf07004ec87ad92b0cb2c1f5ca5afbb                                 cae8fa26327aa346                                                 \n",
            "No of Bits Changed:           65                                                               33                                                               \n",
            "\n",
            "Avalanche Effect (1 Bit Change in Key):\n",
            "Parameter                     AES                                                              DES                                                              \n",
            "Original Plaintext:           123456                                                           123456                                                           \n",
            "Original Key:                 547d364e3b20edcab5c6937ae6b69636                                 05f7c1933656ad8a                                                 \n",
            "Changed Key:                  547d364e3b20edcab5c6937ae6b69600                                 05f7c1933656ad00                                                 \n",
            "New CT:                       e22c6e85c51704d37f45d5c076d89675                                 79f618e66e81d4fc                                                 \n",
            "No of Bits Changed:           71                                                               30                                                               \n"
          ]
        },
        {
          "output_type": "stream",
          "name": "stderr",
          "text": [
            "<ipython-input-1-53c500e594ac>:33: CryptographyDeprecationWarning: TripleDES has been moved to cryptography.hazmat.decrepit.ciphers.algorithms.TripleDES and will be removed from this module in 48.0.0.\n",
            "  cipher = Cipher(algorithms.TripleDES(key), modes.ECB(), backend=backend)\n",
            "<ipython-input-1-53c500e594ac>:37: CryptographyDeprecationWarning: TripleDES has been moved to cryptography.hazmat.decrepit.ciphers.algorithms.TripleDES and will be removed from this module in 48.0.0.\n",
            "  padder = padding.PKCS7(algorithms.TripleDES.block_size).padder()\n",
            "<ipython-input-1-53c500e594ac>:45: CryptographyDeprecationWarning: TripleDES has been moved to cryptography.hazmat.decrepit.ciphers.algorithms.TripleDES and will be removed from this module in 48.0.0.\n",
            "  cipher = Cipher(algorithms.TripleDES(key), modes.ECB(), backend=backend)\n",
            "<ipython-input-1-53c500e594ac>:51: CryptographyDeprecationWarning: TripleDES has been moved to cryptography.hazmat.decrepit.ciphers.algorithms.TripleDES and will be removed from this module in 48.0.0.\n",
            "  unpadder = padding.PKCS7(algorithms.TripleDES.block_size).unpadder()\n"
          ]
        }
      ],
      "source": [
        "import time\n",
        "from cryptography.hazmat.primitives.ciphers import Cipher, algorithms, modes\n",
        "from cryptography.hazmat.backends import default_backend\n",
        "from cryptography.hazmat.primitives import padding\n",
        "import os\n",
        "\n",
        "def encrypt_aes(key, plaintext):\n",
        "    backend = default_backend()\n",
        "    cipher = Cipher(algorithms.AES(key), modes.ECB(), backend=backend)\n",
        "    encryptor = cipher.encryptor()\n",
        "\n",
        "    # Padding\n",
        "    padder = padding.PKCS7(algorithms.AES.block_size).padder()\n",
        "    padded_data = padder.update(plaintext) + padder.finalize()\n",
        "\n",
        "    ciphertext = encryptor.update(padded_data) + encryptor.finalize()\n",
        "    return ciphertext\n",
        "\n",
        "def decrypt_aes(key, ciphertext):\n",
        "    backend = default_backend()\n",
        "    cipher = Cipher(algorithms.AES(key), modes.ECB(), backend=backend)\n",
        "    decryptor = cipher.decryptor()\n",
        "\n",
        "    decrypted_padded = decryptor.update(ciphertext) + decryptor.finalize()\n",
        "\n",
        "    # Unpadding\n",
        "    unpadder = padding.PKCS7(algorithms.AES.block_size).unpadder()\n",
        "    unpadded_data = unpadder.update(decrypted_padded) + unpadder.finalize()\n",
        "    return unpadded_data\n",
        "\n",
        "def encrypt_des(key, plaintext):\n",
        "    backend = default_backend()\n",
        "    cipher = Cipher(algorithms.TripleDES(key), modes.ECB(), backend=backend)\n",
        "    encryptor = cipher.encryptor()\n",
        "\n",
        "    # Padding\n",
        "    padder = padding.PKCS7(algorithms.TripleDES.block_size).padder()\n",
        "    padded_data = padder.update(plaintext) + padder.finalize()\n",
        "\n",
        "    ciphertext = encryptor.update(padded_data) + encryptor.finalize()\n",
        "    return ciphertext\n",
        "\n",
        "def decrypt_des(key, ciphertext):\n",
        "    backend = default_backend()\n",
        "    cipher = Cipher(algorithms.TripleDES(key), modes.ECB(), backend=backend)\n",
        "    decryptor = cipher.decryptor()\n",
        "\n",
        "    decrypted_padded = decryptor.update(ciphertext) + decryptor.finalize()\n",
        "\n",
        "    # Unpadding\n",
        "    unpadder = padding.PKCS7(algorithms.TripleDES.block_size).unpadder()\n",
        "    unpadded_data = unpadder.update(decrypted_padded) + unpadder.finalize()\n",
        "    return unpadded_data\n",
        "\n",
        "def measure_time(func, *args):\n",
        "    start_time = time.time()\n",
        "    result = func(*args)\n",
        "    end_time = time.time()\n",
        "    return result, end_time - start_time\n",
        "\n",
        "# Initial parameters\n",
        "plaintext = b'123456'  # Must be bytes\n",
        "key_aes = os.urandom(16)  # AES-128 key\n",
        "key_des = os.urandom(8)  # DES key\n",
        "\n",
        "# Encrypt and decrypt using AES\n",
        "aes_ciphertext, aes_encrypt_time = measure_time(encrypt_aes, key_aes, plaintext)\n",
        "aes_decrypted, aes_decrypt_time = measure_time(decrypt_aes, key_aes, aes_ciphertext)\n",
        "\n",
        "# Encrypt and decrypt using DES\n",
        "des_ciphertext, des_encrypt_time = measure_time(encrypt_des, key_des, plaintext)\n",
        "des_decrypted, des_decrypt_time = measure_time(decrypt_des, key_des, des_ciphertext)\n",
        "\n",
        "# Test Avalanche Effect: Change in Plaintext\n",
        "changed_plaintext_aes = b'123454'  # Change one bit\n",
        "aes_changed_ciphertext, _ = measure_time(encrypt_aes, key_aes, changed_plaintext_aes)\n",
        "\n",
        "changed_plaintext_des = b'123454'  # Change one bit\n",
        "des_changed_ciphertext, _ = measure_time(encrypt_des, key_des, changed_plaintext_des)\n",
        "\n",
        "# Test Avalanche Effect: Change in Key\n",
        "changed_key_aes = key_aes[:-1] + b'\\x00'  # Change one byte\n",
        "aes_changed_ciphertext_key, _ = measure_time(encrypt_aes, changed_key_aes, plaintext)\n",
        "\n",
        "changed_key_des = key_des[:-1] + b'\\x00'  # Change one byte\n",
        "des_changed_ciphertext_key, _ = measure_time(encrypt_des, changed_key_des, plaintext)\n",
        "# Output Results\n",
        "print(\"SOURCE CODE: [Refer to code above]\")\n",
        "print(\"\\nOBSERVATIONS AND CONCLUSION:\\n\")\n",
        "print(f\"{'Parameter':<30}{'AES-128':<65}{'DES':<65}\")\n",
        "print(f\"{'Plaintext:':<30}{plaintext.decode():<65}{plaintext.decode():<65}\")\n",
        "print(f\"{'Ciphertext:':<30}{aes_ciphertext.hex():<65}{des_ciphertext.hex():<65}\")\n",
        "print(f\"{'Encryption time (s):':<30}{aes_encrypt_time:<65.6f}{des_encrypt_time:<65.6f}\")\n",
        "print(f\"{'Decryption time (s):':<30}{aes_decrypt_time:<65.6f}{des_decrypt_time:<65.6f}\")\n",
        "\n",
        "print(\"\\nAvalanche Effect (1 Bit Change in Plaintext):\")\n",
        "print(f\"{'Parameter':<30}{'AES':<65}{'DES':<65}\")\n",
        "print(f\"{'Original Plaintext:':<30}{plaintext.decode():<65}{plaintext.decode():<65}\")\n",
        "print(f\"{'Changed Plaintext:':<30}{changed_plaintext_aes.decode():<65}{changed_plaintext_des.decode():<65}\")\n",
        "print(f\"{'New CT:':<30}{aes_changed_ciphertext.hex():<65}{des_changed_ciphertext.hex():<65}\")\n",
        "print(f\"{'No of Bits Changed:':<30}{bin(int.from_bytes(aes_ciphertext, 'big') ^ int.from_bytes(aes_changed_ciphertext, 'big')).count('1'):<65}{bin(int.from_bytes(des_ciphertext, 'big') ^ int.from_bytes(des_changed_ciphertext, 'big')).count('1'):<65}\")\n",
        "\n",
        "print(\"\\nAvalanche Effect (1 Bit Change in Key):\")\n",
        "print(f\"{'Parameter':<30}{'AES':<65}{'DES':<65}\")\n",
        "print(f\"{'Original Plaintext:':<30}{plaintext.decode():<65}{plaintext.decode():<65}\")\n",
        "print(f\"{'Original Key:':<30}{key_aes.hex():<65}{key_des.hex():<65}\")\n",
        "print(f\"{'Changed Key:':<30}{changed_key_aes.hex():<65}{changed_key_des.hex():<65}\")\n",
        "print(f\"{'New CT:':<30}{aes_changed_ciphertext_key.hex():<65}{des_changed_ciphertext_key.hex():<65}\")\n",
        "print(f\"{'No of Bits Changed:':<30}{bin(int.from_bytes(aes_ciphertext, 'big') ^ int.from_bytes(aes_changed_ciphertext_key, 'big')).count('1'):<65}{bin(int.from_bytes(des_ciphertext, 'big') ^ int.from_bytes(des_changed_ciphertext_key, 'big')).count('1'):<65}\")\n"
      ]
    },
    {
      "cell_type": "code",
      "source": [],
      "metadata": {
        "id": "ObsswChrA6yd"
      },
      "execution_count": null,
      "outputs": []
    }
  ]
}