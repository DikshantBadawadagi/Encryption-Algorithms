{
  "nbformat": 4,
  "nbformat_minor": 0,
  "metadata": {
    "colab": {
      "provenance": [],
      "authorship_tag": "ABX9TyMWpnwpOm8GfCaqI10rpgkN",
      "include_colab_link": true
    },
    "kernelspec": {
      "name": "python3",
      "display_name": "Python 3"
    },
    "language_info": {
      "name": "python"
    }
  },
  "cells": [
    {
      "cell_type": "markdown",
      "metadata": {
        "id": "view-in-github",
        "colab_type": "text"
      },
      "source": [
        "<a href=\"https://colab.research.google.com/github/DikshantBadawadagi/Encryption-Algorithms/blob/main/DNA-Encoding-Encryption.ipynb\" target=\"_parent\"><img src=\"https://colab.research.google.com/assets/colab-badge.svg\" alt=\"Open In Colab\"/></a>"
      ]
    },
    {
      "cell_type": "code",
      "execution_count": 2,
      "metadata": {
        "colab": {
          "base_uri": "https://localhost:8080/"
        },
        "id": "V3xHRLK7w3Je",
        "outputId": "27ba9725-1f4a-44e4-c043-09d82d6566ba"
      },
      "outputs": [
        {
          "output_type": "stream",
          "name": "stdout",
          "text": [
            "Encryption complete.\n",
            "Decryption complete.\n",
            "Original image shape: (225, 225, 3)\n",
            "Encrypted image shape: (225, 225, 3)\n",
            "Decrypted image shape: (225, 225, 3)\n",
            "Original image dtype: uint8\n",
            "Encrypted image dtype: uint8\n",
            "Decrypted image dtype: uint8\n",
            "Original image sample: [255 255 255]\n",
            "Encrypted image sample: [185 166  88]\n",
            "Decrypted image sample: [255 255 255]\n",
            "Mean difference between original and decrypted images: 0.0\n",
            "Maximum difference between original and decrypted images: 0.0\n",
            "The decrypted image is identical to the original image.\n"
          ]
        }
      ],
      "source": [
        "import numpy as np\n",
        "from PIL import Image\n",
        "import random\n",
        "\n",
        "def image_to_array(image_path):\n",
        "    image = Image.open(image_path)\n",
        "    return np.array(image)\n",
        "\n",
        "def array_to_image(array, output_path):\n",
        "    array = np.clip(array, 0, 255).astype(np.uint8)\n",
        "    image = Image.fromarray(array)\n",
        "    image.save(output_path)\n",
        "\n",
        "# DNA coding functions\n",
        "def int_to_dna(n):\n",
        "    dna_map = {0: 'A', 1: 'T', 2: 'C', 3: 'G'}\n",
        "    return dna_map[n]\n",
        "\n",
        "def dna_to_int(dna):\n",
        "    dna_map = {'A': 0, 'T': 1, 'C': 2, 'G': 3}\n",
        "    return dna_map[dna]\n",
        "\n",
        "def pixel_to_dna(pixel):\n",
        "    return ''.join(int_to_dna((pixel >> i) & 3) for i in (6, 4, 2, 0))\n",
        "\n",
        "def dna_to_pixel(dna):\n",
        "    return sum(dna_to_int(dna[i]) << (6 - 2*i) for i in range(4))\n",
        "\n",
        "def dna_encode(array):\n",
        "    return np.vectorize(pixel_to_dna)(array)\n",
        "\n",
        "def dna_decode(dna_array):\n",
        "    return np.vectorize(dna_to_pixel)(dna_array)\n",
        "\n",
        "def dna_xor(dna1, dna2):\n",
        "    return ''.join(int_to_dna(dna_to_int(a) ^ dna_to_int(b)) for a, b in zip(dna1, dna2))\n",
        "\n",
        "def generate_key(shape):\n",
        "    return np.random.randint(0, 256, shape, dtype=np.uint8)\n",
        "\n",
        "def dna_encrypt(image_array, key_array):\n",
        "    dna_image = dna_encode(image_array)\n",
        "    dna_key = dna_encode(key_array)\n",
        "    encrypted_dna = np.frompyfunc(dna_xor, 2, 1)(dna_image, dna_key)\n",
        "    return dna_decode(encrypted_dna)\n",
        "\n",
        "def dna_decrypt(encrypted_array, key_array):\n",
        "    return dna_encrypt(encrypted_array, key_array)  # XOR is its own inverse\n",
        "\n",
        "def encrypt_image_file(input_path, output_path):\n",
        "    image_array = image_to_array(input_path)\n",
        "    key_array = generate_key(image_array.shape)\n",
        "    encrypted_array = dna_encrypt(image_array, key_array)\n",
        "    array_to_image(encrypted_array, output_path)\n",
        "    return key_array\n",
        "\n",
        "def decrypt_image_file(encrypted_path, output_path, key_array):\n",
        "    encrypted_array = image_to_array(encrypted_path)\n",
        "    decrypted_array = dna_decrypt(encrypted_array, key_array)\n",
        "    array_to_image(decrypted_array, output_path)\n",
        "\n",
        "# Example Usage\n",
        "input_image_path = '/content/download.jpg'\n",
        "encrypted_image_path = '/content/encrypted_image.png'\n",
        "decrypted_image_path = '/content/decrypted_image.png'\n",
        "\n",
        "# Encryption\n",
        "key_array = encrypt_image_file(input_image_path, encrypted_image_path)\n",
        "print(\"Encryption complete.\")\n",
        "\n",
        "# Decryption\n",
        "decrypt_image_file(encrypted_image_path, decrypted_image_path, key_array)\n",
        "print(\"Decryption complete.\")\n",
        "\n",
        "# Debugging\n",
        "original_image = image_to_array(input_image_path)\n",
        "encrypted_image = image_to_array(encrypted_image_path)\n",
        "decrypted_image = image_to_array(decrypted_image_path)\n",
        "\n",
        "print(\"Original image shape:\", original_image.shape)\n",
        "print(\"Encrypted image shape:\", encrypted_image.shape)\n",
        "print(\"Decrypted image shape:\", decrypted_image.shape)\n",
        "\n",
        "print(\"Original image dtype:\", original_image.dtype)\n",
        "print(\"Encrypted image dtype:\", encrypted_image.dtype)\n",
        "print(\"Decrypted image dtype:\", decrypted_image.dtype)\n",
        "\n",
        "print(\"Original image sample:\", original_image[0, 0])\n",
        "print(\"Encrypted image sample:\", encrypted_image[0, 0])\n",
        "print(\"Decrypted image sample:\", decrypted_image[0, 0])\n",
        "\n",
        "difference = np.abs(original_image.astype(np.float64) - decrypted_image.astype(np.float64))\n",
        "mean_difference = np.mean(difference)\n",
        "print(f\"Mean difference between original and decrypted images: {mean_difference}\")\n",
        "\n",
        "max_difference = np.max(difference)\n",
        "print(f\"Maximum difference between original and decrypted images: {max_difference}\")\n",
        "\n",
        "# Check if any pixel values are different\n",
        "if np.array_equal(original_image, decrypted_image):\n",
        "    print(\"The decrypted image is identical to the original image.\")\n",
        "else:\n",
        "    print(\"The decrypted image differs from the original image.\")\n",
        "    different_pixels = np.sum(original_image != decrypted_image)\n",
        "    print(f\"Number of different pixels: {different_pixels}\")"
      ]
    },
    {
      "cell_type": "code",
      "source": [],
      "metadata": {
        "id": "-zwWQqjXxC8J"
      },
      "execution_count": null,
      "outputs": []
    }
  ]
}