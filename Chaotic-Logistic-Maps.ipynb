{
  "nbformat": 4,
  "nbformat_minor": 0,
  "metadata": {
    "colab": {
      "provenance": [],
      "authorship_tag": "ABX9TyOzzlrMVhUvAohfyAlM5ZKH",
      "include_colab_link": true
    },
    "kernelspec": {
      "name": "python3",
      "display_name": "Python 3"
    },
    "language_info": {
      "name": "python"
    }
  },
  "cells": [
    {
      "cell_type": "markdown",
      "metadata": {
        "id": "view-in-github",
        "colab_type": "text"
      },
      "source": [
        "<a href=\"https://colab.research.google.com/github/DikshantBadawadagi/Encryption-Algorithms/blob/main/Chaotic-Logistic-Maps.ipynb\" target=\"_parent\"><img src=\"https://colab.research.google.com/assets/colab-badge.svg\" alt=\"Open In Colab\"/></a>"
      ]
    },
    {
      "cell_type": "code",
      "execution_count": 8,
      "metadata": {
        "colab": {
          "base_uri": "https://localhost:8080/"
        },
        "id": "p8OBXv7VeFH5",
        "outputId": "1d93ded0-3acc-4b0c-c414-e9c62a45c4e5"
      },
      "outputs": [
        {
          "output_type": "stream",
          "name": "stdout",
          "text": [
            "[249, 24, 85, 222, 113, 246, 36, 121, 248, 26, 93, 230, 88, 225, 105, 241, 52, 161, 232, 83, 220, 120, 248, 27, 95, 233, 80, 215, 134, 249, 26, 92, 230, 90, 228, 96, 234, 77, 210, 144, 245, 40, 132, 249, 25, 89, 226, 101, 239, 61, 182, 203, 161, 231, 84, 221, 117, 247, 30, 105, 242, 51, 160, 233, 80, 215, 133, 249, 26, 91, 229, 94, 232, 84, 220, 118, 248, 29, 101, 238, 63, 185, 198, 173, 217, 126, 249, 24, 86, 222, 112, 245, 37, 125, 249, 24, 86, 223, 109, 244]\n"
          ]
        }
      ],
      "source": [
        "def logistic_map(x, r, iterations):\n",
        "    sequence = []\n",
        "    for i in range(iterations):\n",
        "        x = r * x * (1 - x)\n",
        "        sequence.append(x)\n",
        "    return sequence\n",
        "\n",
        "# Example parameters\n",
        "x0 = 0.5  # Initial condition\n",
        "r = 3.9   # Control parameter\n",
        "iterations = 100  # Number of values needed\n",
        "\n",
        "chaotic_sequence = logistic_map(x0, r, iterations)\n",
        "\n",
        "# Convert to integers for encryption purposes (e.g., scale by 256 and convert to integers)\n",
        "# chaotic_sequence_int = [int(x * 256) for x in chaotic_sequence]\n",
        "\n",
        "print(chaotic_sequence_int)\n"
      ]
    },
    {
      "cell_type": "code",
      "source": [
        "def logistic_map(x, r, iterations):\n",
        "    sequence = []\n",
        "    for i in range(iterations):\n",
        "        x = r * x * (1 - x)\n",
        "        sequence.append(x)\n",
        "    return sequence\n",
        "\n",
        "def text_to_ascii(text):\n",
        "    return [ord(char) for char in text]\n",
        "\n",
        "def ascii_to_text(ascii_values):\n",
        "    return ''.join([chr(value) for value in ascii_values])\n",
        "\n",
        "def encrypt_text(ascii_values, chaotic_sequence):\n",
        "    encrypted_values = []\n",
        "    for i in range(len(ascii_values)):\n",
        "        chaotic_value = int(chaotic_sequence[i] * 256)  # Scaling the chaotic value\n",
        "        encrypted_value = (ascii_values[i] + chaotic_value) % 256  # Ensure it stays within byte range\n",
        "        encrypted_values.append(encrypted_value)\n",
        "    return encrypted_values\n",
        "\n",
        "def decrypt_text(encrypted_values, chaotic_sequence):\n",
        "    decrypted_values = []\n",
        "    for i in range(len(encrypted_values)):\n",
        "        chaotic_value = int(chaotic_sequence[i] * 256)\n",
        "        decrypted_value = (encrypted_values[i] - chaotic_value) % 256\n",
        "        decrypted_values.append(decrypted_value)\n",
        "    return decrypted_values\n",
        "\n",
        "def encrypt_message(message, x0=0.573, r=3.926):\n",
        "    ascii_values = text_to_ascii(message)\n",
        "    chaotic_sequence = logistic_map(x0, r, len(ascii_values))\n",
        "    encrypted_values = encrypt_text(ascii_values, chaotic_sequence)\n",
        "    encrypted_message = ascii_to_text(encrypted_values)\n",
        "    return encrypted_message\n",
        "\n",
        "def decrypt_message(encrypted_message, x0=0.573, r=3.926):\n",
        "    encrypted_values = text_to_ascii(encrypted_message)\n",
        "    chaotic_sequence = logistic_map(x0, r, len(encrypted_values))\n",
        "    decrypted_values = decrypt_text(encrypted_values, chaotic_sequence)\n",
        "    decrypted_message = ascii_to_text(decrypted_values)\n",
        "    return decrypted_message\n",
        "\n",
        "# Example Usage\n",
        "message = \"DivamSanghvi\"\n",
        "print(\"Original Message:\", message)\n",
        "\n",
        "# Encryption\n",
        "encrypted_message = encrypt_message(message)\n",
        "print(\"Encrypted Message:\", encrypted_message)\n",
        "\n",
        "# Decryption\n",
        "decrypted_message = decrypt_message(encrypted_message)\n",
        "print(\"Decrypted Message:\", decrypted_message)\n"
      ],
      "metadata": {
        "colab": {
          "base_uri": "https://localhost:8080/"
        },
        "id": "hSS8PT_FeRYE",
        "outputId": "bb14a0a0-2531-40a2-ea07-73407bb01e86"
      },
      "execution_count": 15,
      "outputs": [
        {
          "output_type": "stream",
          "name": "stdout",
          "text": [
            "Original Message: DivamSanghvi\n",
            "Encrypted Message: 9õ\\\"'/\u0011VÕ\n",
            "Decrypted Message: DivamSanghvi\n"
          ]
        }
      ]
    },
    {
      "cell_type": "code",
      "source": [
        "def logistic_map(x, r, iterations):\n",
        "    sequence = []\n",
        "    for i in range(iterations):\n",
        "        x = r * x * (1 - x)\n",
        "        sequence.append(x)\n",
        "    return sequence\n",
        "\n",
        "def text_to_numbers(text):\n",
        "    # Convert letters to numbers (0 for 'A', 1 for 'B', ..., 25 for 'Z')\n",
        "    return [(ord(char) - ord('A')) for char in text.upper() if char.isalpha()]\n",
        "\n",
        "def numbers_to_text(numbers):\n",
        "    # Convert numbers back to letters\n",
        "    return ''.join([chr(num + ord('A')) for num in numbers])\n",
        "\n",
        "def encrypt_text(numbers, chaotic_sequence):\n",
        "    encrypted_numbers = []\n",
        "    for i in range(len(numbers)):\n",
        "        chaotic_value = int(chaotic_sequence[i] * 26)  # Scaling the chaotic value to match the alphabet range\n",
        "        encrypted_value = (numbers[i] + chaotic_value) % 26  # Ensure it wraps around within 0-25\n",
        "        encrypted_numbers.append(encrypted_value)\n",
        "    return encrypted_numbers\n",
        "\n",
        "def decrypt_text(encrypted_numbers, chaotic_sequence):\n",
        "    decrypted_numbers = []\n",
        "    for i in range(len(encrypted_numbers)):\n",
        "        chaotic_value = int(chaotic_sequence[i] * 26)\n",
        "        decrypted_value = (encrypted_numbers[i] - chaotic_value) % 26\n",
        "        decrypted_numbers.append(decrypted_value)\n",
        "    return decrypted_numbers\n",
        "\n",
        "def encrypt_message(message, x0=0.5, r=3.9):\n",
        "    numbers = text_to_numbers(message)\n",
        "    chaotic_sequence = logistic_map(x0, r, len(numbers))\n",
        "    encrypted_numbers = encrypt_text(numbers, chaotic_sequence)\n",
        "    encrypted_message = numbers_to_text(encrypted_numbers)\n",
        "    return encrypted_message\n",
        "\n",
        "def decrypt_message(encrypted_message, x0=0.5, r=3.9):\n",
        "    encrypted_numbers = text_to_numbers(encrypted_message)\n",
        "    chaotic_sequence = logistic_map(x0, r, len(encrypted_numbers))\n",
        "    decrypted_numbers = decrypt_text(encrypted_numbers, chaotic_sequence)\n",
        "    decrypted_message = numbers_to_text(decrypted_numbers)\n",
        "    return decrypted_message\n",
        "\n",
        "# Example Usage\n",
        "message = \"DivamSanghvi\"\n",
        "print(\"Original Message:\", message)\n",
        "\n",
        "# Encryption\n",
        "encrypted_message = encrypt_message(message)\n",
        "print(\"Encrypted Message:\", encrypted_message)\n",
        "\n",
        "# Decryption\n",
        "decrypted_message = decrypt_message(encrypted_message)\n",
        "print(\"Decrypted Message:\", decrypted_message)\n"
      ],
      "metadata": {
        "colab": {
          "base_uri": "https://localhost:8080/"
        },
        "id": "HjZpq4B_hLAf",
        "outputId": "ba25a633-903f-487b-f62d-57dd67d0f94d"
      },
      "execution_count": 16,
      "outputs": [
        {
          "output_type": "stream",
          "name": "stdout",
          "text": [
            "Original Message: DivamSanghvi\n",
            "Encrypted Message: CKDWXRDZFJEF\n",
            "Decrypted Message: DIVAMSANGHVI\n"
          ]
        }
      ]
    },
    {
      "cell_type": "code",
      "source": [],
      "metadata": {
        "id": "VMcxFWo9h2HC"
      },
      "execution_count": null,
      "outputs": []
    }
  ]
}